{
 "cells": [
  {
   "cell_type": "code",
   "execution_count": 1,
   "metadata": {},
   "outputs": [],
   "source": [
    "import torch\n",
    "import numpy as np\n",
    "import pandas as pd"
   ]
  },
  {
   "cell_type": "code",
   "execution_count": 2,
   "metadata": {},
   "outputs": [],
   "source": [
    "import matplotlib.pyplot as plt\n",
    "import seaborn as sns"
   ]
  },
  {
   "cell_type": "code",
   "execution_count": 3,
   "metadata": {},
   "outputs": [],
   "source": [
    "import os"
   ]
  },
  {
   "cell_type": "code",
   "execution_count": 4,
   "metadata": {},
   "outputs": [
    {
     "data": {
      "text/plain": [
       "'C:\\\\Users\\\\Asus\\\\Desktop\\\\DEEP LEARNING PLURALSIGHT\\\\Bike Sharing Demand Regression NN'"
      ]
     },
     "execution_count": 4,
     "metadata": {},
     "output_type": "execute_result"
    }
   ],
   "source": [
    "os.getcwd()"
   ]
  },
  {
   "cell_type": "code",
   "execution_count": 5,
   "metadata": {},
   "outputs": [],
   "source": [
    "df=pd.read_csv(\"nntrain.csv\",index_col=0)"
   ]
  },
  {
   "cell_type": "code",
   "execution_count": 6,
   "metadata": {},
   "outputs": [
    {
     "data": {
      "text/html": [
       "<div>\n",
       "<style scoped>\n",
       "    .dataframe tbody tr th:only-of-type {\n",
       "        vertical-align: middle;\n",
       "    }\n",
       "\n",
       "    .dataframe tbody tr th {\n",
       "        vertical-align: top;\n",
       "    }\n",
       "\n",
       "    .dataframe thead th {\n",
       "        text-align: right;\n",
       "    }\n",
       "</style>\n",
       "<table border=\"1\" class=\"dataframe\">\n",
       "  <thead>\n",
       "    <tr style=\"text-align: right;\">\n",
       "      <th></th>\n",
       "      <th>season</th>\n",
       "      <th>holiday</th>\n",
       "      <th>workingday</th>\n",
       "      <th>weather</th>\n",
       "      <th>temp</th>\n",
       "      <th>atemp</th>\n",
       "      <th>humidity</th>\n",
       "      <th>windspeed</th>\n",
       "      <th>casual</th>\n",
       "      <th>registered</th>\n",
       "      <th>count</th>\n",
       "    </tr>\n",
       "    <tr>\n",
       "      <th>datetime</th>\n",
       "      <th></th>\n",
       "      <th></th>\n",
       "      <th></th>\n",
       "      <th></th>\n",
       "      <th></th>\n",
       "      <th></th>\n",
       "      <th></th>\n",
       "      <th></th>\n",
       "      <th></th>\n",
       "      <th></th>\n",
       "      <th></th>\n",
       "    </tr>\n",
       "  </thead>\n",
       "  <tbody>\n",
       "    <tr>\n",
       "      <th>2011-01-01 00:00:00</th>\n",
       "      <td>1</td>\n",
       "      <td>0</td>\n",
       "      <td>0</td>\n",
       "      <td>1</td>\n",
       "      <td>9.84</td>\n",
       "      <td>14.395</td>\n",
       "      <td>81</td>\n",
       "      <td>0.0</td>\n",
       "      <td>3</td>\n",
       "      <td>13</td>\n",
       "      <td>16</td>\n",
       "    </tr>\n",
       "    <tr>\n",
       "      <th>2011-01-01 01:00:00</th>\n",
       "      <td>1</td>\n",
       "      <td>0</td>\n",
       "      <td>0</td>\n",
       "      <td>1</td>\n",
       "      <td>9.02</td>\n",
       "      <td>13.635</td>\n",
       "      <td>80</td>\n",
       "      <td>0.0</td>\n",
       "      <td>8</td>\n",
       "      <td>32</td>\n",
       "      <td>40</td>\n",
       "    </tr>\n",
       "    <tr>\n",
       "      <th>2011-01-01 02:00:00</th>\n",
       "      <td>1</td>\n",
       "      <td>0</td>\n",
       "      <td>0</td>\n",
       "      <td>1</td>\n",
       "      <td>9.02</td>\n",
       "      <td>13.635</td>\n",
       "      <td>80</td>\n",
       "      <td>0.0</td>\n",
       "      <td>5</td>\n",
       "      <td>27</td>\n",
       "      <td>32</td>\n",
       "    </tr>\n",
       "    <tr>\n",
       "      <th>2011-01-01 03:00:00</th>\n",
       "      <td>1</td>\n",
       "      <td>0</td>\n",
       "      <td>0</td>\n",
       "      <td>1</td>\n",
       "      <td>9.84</td>\n",
       "      <td>14.395</td>\n",
       "      <td>75</td>\n",
       "      <td>0.0</td>\n",
       "      <td>3</td>\n",
       "      <td>10</td>\n",
       "      <td>13</td>\n",
       "    </tr>\n",
       "    <tr>\n",
       "      <th>2011-01-01 04:00:00</th>\n",
       "      <td>1</td>\n",
       "      <td>0</td>\n",
       "      <td>0</td>\n",
       "      <td>1</td>\n",
       "      <td>9.84</td>\n",
       "      <td>14.395</td>\n",
       "      <td>75</td>\n",
       "      <td>0.0</td>\n",
       "      <td>0</td>\n",
       "      <td>1</td>\n",
       "      <td>1</td>\n",
       "    </tr>\n",
       "  </tbody>\n",
       "</table>\n",
       "</div>"
      ],
      "text/plain": [
       "                     season  holiday  workingday  weather  temp   atemp  \\\n",
       "datetime                                                                  \n",
       "2011-01-01 00:00:00       1        0           0        1  9.84  14.395   \n",
       "2011-01-01 01:00:00       1        0           0        1  9.02  13.635   \n",
       "2011-01-01 02:00:00       1        0           0        1  9.02  13.635   \n",
       "2011-01-01 03:00:00       1        0           0        1  9.84  14.395   \n",
       "2011-01-01 04:00:00       1        0           0        1  9.84  14.395   \n",
       "\n",
       "                     humidity  windspeed  casual  registered  count  \n",
       "datetime                                                             \n",
       "2011-01-01 00:00:00        81        0.0       3          13     16  \n",
       "2011-01-01 01:00:00        80        0.0       8          32     40  \n",
       "2011-01-01 02:00:00        80        0.0       5          27     32  \n",
       "2011-01-01 03:00:00        75        0.0       3          10     13  \n",
       "2011-01-01 04:00:00        75        0.0       0           1      1  "
      ]
     },
     "execution_count": 6,
     "metadata": {},
     "output_type": "execute_result"
    }
   ],
   "source": [
    "df.head()"
   ]
  },
  {
   "cell_type": "code",
   "execution_count": 7,
   "metadata": {},
   "outputs": [
    {
     "data": {
      "text/html": [
       "<div>\n",
       "<style scoped>\n",
       "    .dataframe tbody tr th:only-of-type {\n",
       "        vertical-align: middle;\n",
       "    }\n",
       "\n",
       "    .dataframe tbody tr th {\n",
       "        vertical-align: top;\n",
       "    }\n",
       "\n",
       "    .dataframe thead th {\n",
       "        text-align: right;\n",
       "    }\n",
       "</style>\n",
       "<table border=\"1\" class=\"dataframe\">\n",
       "  <thead>\n",
       "    <tr style=\"text-align: right;\">\n",
       "      <th></th>\n",
       "      <th>holiday</th>\n",
       "      <th>workingday</th>\n",
       "      <th>weather</th>\n",
       "      <th>temp</th>\n",
       "      <th>atemp</th>\n",
       "      <th>humidity</th>\n",
       "      <th>windspeed</th>\n",
       "      <th>casual</th>\n",
       "      <th>registered</th>\n",
       "      <th>count</th>\n",
       "      <th>season_1</th>\n",
       "      <th>season_2</th>\n",
       "      <th>season_3</th>\n",
       "      <th>season_4</th>\n",
       "    </tr>\n",
       "    <tr>\n",
       "      <th>datetime</th>\n",
       "      <th></th>\n",
       "      <th></th>\n",
       "      <th></th>\n",
       "      <th></th>\n",
       "      <th></th>\n",
       "      <th></th>\n",
       "      <th></th>\n",
       "      <th></th>\n",
       "      <th></th>\n",
       "      <th></th>\n",
       "      <th></th>\n",
       "      <th></th>\n",
       "      <th></th>\n",
       "      <th></th>\n",
       "    </tr>\n",
       "  </thead>\n",
       "  <tbody>\n",
       "    <tr>\n",
       "      <th>2011-01-01 00:00:00</th>\n",
       "      <td>0</td>\n",
       "      <td>0</td>\n",
       "      <td>1</td>\n",
       "      <td>9.84</td>\n",
       "      <td>14.395</td>\n",
       "      <td>81</td>\n",
       "      <td>0.0</td>\n",
       "      <td>3</td>\n",
       "      <td>13</td>\n",
       "      <td>16</td>\n",
       "      <td>1</td>\n",
       "      <td>0</td>\n",
       "      <td>0</td>\n",
       "      <td>0</td>\n",
       "    </tr>\n",
       "    <tr>\n",
       "      <th>2011-01-01 01:00:00</th>\n",
       "      <td>0</td>\n",
       "      <td>0</td>\n",
       "      <td>1</td>\n",
       "      <td>9.02</td>\n",
       "      <td>13.635</td>\n",
       "      <td>80</td>\n",
       "      <td>0.0</td>\n",
       "      <td>8</td>\n",
       "      <td>32</td>\n",
       "      <td>40</td>\n",
       "      <td>1</td>\n",
       "      <td>0</td>\n",
       "      <td>0</td>\n",
       "      <td>0</td>\n",
       "    </tr>\n",
       "    <tr>\n",
       "      <th>2011-01-01 02:00:00</th>\n",
       "      <td>0</td>\n",
       "      <td>0</td>\n",
       "      <td>1</td>\n",
       "      <td>9.02</td>\n",
       "      <td>13.635</td>\n",
       "      <td>80</td>\n",
       "      <td>0.0</td>\n",
       "      <td>5</td>\n",
       "      <td>27</td>\n",
       "      <td>32</td>\n",
       "      <td>1</td>\n",
       "      <td>0</td>\n",
       "      <td>0</td>\n",
       "      <td>0</td>\n",
       "    </tr>\n",
       "    <tr>\n",
       "      <th>2011-01-01 03:00:00</th>\n",
       "      <td>0</td>\n",
       "      <td>0</td>\n",
       "      <td>1</td>\n",
       "      <td>9.84</td>\n",
       "      <td>14.395</td>\n",
       "      <td>75</td>\n",
       "      <td>0.0</td>\n",
       "      <td>3</td>\n",
       "      <td>10</td>\n",
       "      <td>13</td>\n",
       "      <td>1</td>\n",
       "      <td>0</td>\n",
       "      <td>0</td>\n",
       "      <td>0</td>\n",
       "    </tr>\n",
       "    <tr>\n",
       "      <th>2011-01-01 04:00:00</th>\n",
       "      <td>0</td>\n",
       "      <td>0</td>\n",
       "      <td>1</td>\n",
       "      <td>9.84</td>\n",
       "      <td>14.395</td>\n",
       "      <td>75</td>\n",
       "      <td>0.0</td>\n",
       "      <td>0</td>\n",
       "      <td>1</td>\n",
       "      <td>1</td>\n",
       "      <td>1</td>\n",
       "      <td>0</td>\n",
       "      <td>0</td>\n",
       "      <td>0</td>\n",
       "    </tr>\n",
       "  </tbody>\n",
       "</table>\n",
       "</div>"
      ],
      "text/plain": [
       "                     holiday  workingday  weather  temp   atemp  humidity  \\\n",
       "datetime                                                                    \n",
       "2011-01-01 00:00:00        0           0        1  9.84  14.395        81   \n",
       "2011-01-01 01:00:00        0           0        1  9.02  13.635        80   \n",
       "2011-01-01 02:00:00        0           0        1  9.02  13.635        80   \n",
       "2011-01-01 03:00:00        0           0        1  9.84  14.395        75   \n",
       "2011-01-01 04:00:00        0           0        1  9.84  14.395        75   \n",
       "\n",
       "                     windspeed  casual  registered  count  season_1  season_2  \\\n",
       "datetime                                                                        \n",
       "2011-01-01 00:00:00        0.0       3          13     16         1         0   \n",
       "2011-01-01 01:00:00        0.0       8          32     40         1         0   \n",
       "2011-01-01 02:00:00        0.0       5          27     32         1         0   \n",
       "2011-01-01 03:00:00        0.0       3          10     13         1         0   \n",
       "2011-01-01 04:00:00        0.0       0           1      1         1         0   \n",
       "\n",
       "                     season_3  season_4  \n",
       "datetime                                 \n",
       "2011-01-01 00:00:00         0         0  \n",
       "2011-01-01 01:00:00         0         0  \n",
       "2011-01-01 02:00:00         0         0  \n",
       "2011-01-01 03:00:00         0         0  \n",
       "2011-01-01 04:00:00         0         0  "
      ]
     },
     "execution_count": 7,
     "metadata": {},
     "output_type": "execute_result"
    }
   ],
   "source": [
    "data=pd.get_dummies(df,columns=['season'])\n",
    "data.head()"
   ]
  },
  {
   "cell_type": "code",
   "execution_count": 8,
   "metadata": {},
   "outputs": [],
   "source": [
    "#features=data['holiday','workingday','weather','temp','humidity','windspeed','casual','registered','season_1','season_2','season_3','season_4']\n",
    "target=data['count']"
   ]
  },
  {
   "cell_type": "code",
   "execution_count": 9,
   "metadata": {},
   "outputs": [],
   "source": [
    "features=data.drop('count',axis=1)"
   ]
  },
  {
   "cell_type": "code",
   "execution_count": 10,
   "metadata": {},
   "outputs": [
    {
     "data": {
      "text/html": [
       "<div>\n",
       "<style scoped>\n",
       "    .dataframe tbody tr th:only-of-type {\n",
       "        vertical-align: middle;\n",
       "    }\n",
       "\n",
       "    .dataframe tbody tr th {\n",
       "        vertical-align: top;\n",
       "    }\n",
       "\n",
       "    .dataframe thead th {\n",
       "        text-align: right;\n",
       "    }\n",
       "</style>\n",
       "<table border=\"1\" class=\"dataframe\">\n",
       "  <thead>\n",
       "    <tr style=\"text-align: right;\">\n",
       "      <th></th>\n",
       "      <th>holiday</th>\n",
       "      <th>workingday</th>\n",
       "      <th>weather</th>\n",
       "      <th>temp</th>\n",
       "      <th>atemp</th>\n",
       "      <th>humidity</th>\n",
       "      <th>windspeed</th>\n",
       "      <th>casual</th>\n",
       "      <th>registered</th>\n",
       "      <th>season_1</th>\n",
       "      <th>season_2</th>\n",
       "      <th>season_3</th>\n",
       "      <th>season_4</th>\n",
       "    </tr>\n",
       "    <tr>\n",
       "      <th>datetime</th>\n",
       "      <th></th>\n",
       "      <th></th>\n",
       "      <th></th>\n",
       "      <th></th>\n",
       "      <th></th>\n",
       "      <th></th>\n",
       "      <th></th>\n",
       "      <th></th>\n",
       "      <th></th>\n",
       "      <th></th>\n",
       "      <th></th>\n",
       "      <th></th>\n",
       "      <th></th>\n",
       "    </tr>\n",
       "  </thead>\n",
       "  <tbody>\n",
       "    <tr>\n",
       "      <th>2011-01-01 00:00:00</th>\n",
       "      <td>0</td>\n",
       "      <td>0</td>\n",
       "      <td>1</td>\n",
       "      <td>9.84</td>\n",
       "      <td>14.395</td>\n",
       "      <td>81</td>\n",
       "      <td>0.0</td>\n",
       "      <td>3</td>\n",
       "      <td>13</td>\n",
       "      <td>1</td>\n",
       "      <td>0</td>\n",
       "      <td>0</td>\n",
       "      <td>0</td>\n",
       "    </tr>\n",
       "    <tr>\n",
       "      <th>2011-01-01 01:00:00</th>\n",
       "      <td>0</td>\n",
       "      <td>0</td>\n",
       "      <td>1</td>\n",
       "      <td>9.02</td>\n",
       "      <td>13.635</td>\n",
       "      <td>80</td>\n",
       "      <td>0.0</td>\n",
       "      <td>8</td>\n",
       "      <td>32</td>\n",
       "      <td>1</td>\n",
       "      <td>0</td>\n",
       "      <td>0</td>\n",
       "      <td>0</td>\n",
       "    </tr>\n",
       "    <tr>\n",
       "      <th>2011-01-01 02:00:00</th>\n",
       "      <td>0</td>\n",
       "      <td>0</td>\n",
       "      <td>1</td>\n",
       "      <td>9.02</td>\n",
       "      <td>13.635</td>\n",
       "      <td>80</td>\n",
       "      <td>0.0</td>\n",
       "      <td>5</td>\n",
       "      <td>27</td>\n",
       "      <td>1</td>\n",
       "      <td>0</td>\n",
       "      <td>0</td>\n",
       "      <td>0</td>\n",
       "    </tr>\n",
       "    <tr>\n",
       "      <th>2011-01-01 03:00:00</th>\n",
       "      <td>0</td>\n",
       "      <td>0</td>\n",
       "      <td>1</td>\n",
       "      <td>9.84</td>\n",
       "      <td>14.395</td>\n",
       "      <td>75</td>\n",
       "      <td>0.0</td>\n",
       "      <td>3</td>\n",
       "      <td>10</td>\n",
       "      <td>1</td>\n",
       "      <td>0</td>\n",
       "      <td>0</td>\n",
       "      <td>0</td>\n",
       "    </tr>\n",
       "    <tr>\n",
       "      <th>2011-01-01 04:00:00</th>\n",
       "      <td>0</td>\n",
       "      <td>0</td>\n",
       "      <td>1</td>\n",
       "      <td>9.84</td>\n",
       "      <td>14.395</td>\n",
       "      <td>75</td>\n",
       "      <td>0.0</td>\n",
       "      <td>0</td>\n",
       "      <td>1</td>\n",
       "      <td>1</td>\n",
       "      <td>0</td>\n",
       "      <td>0</td>\n",
       "      <td>0</td>\n",
       "    </tr>\n",
       "  </tbody>\n",
       "</table>\n",
       "</div>"
      ],
      "text/plain": [
       "                     holiday  workingday  weather  temp   atemp  humidity  \\\n",
       "datetime                                                                    \n",
       "2011-01-01 00:00:00        0           0        1  9.84  14.395        81   \n",
       "2011-01-01 01:00:00        0           0        1  9.02  13.635        80   \n",
       "2011-01-01 02:00:00        0           0        1  9.02  13.635        80   \n",
       "2011-01-01 03:00:00        0           0        1  9.84  14.395        75   \n",
       "2011-01-01 04:00:00        0           0        1  9.84  14.395        75   \n",
       "\n",
       "                     windspeed  casual  registered  season_1  season_2  \\\n",
       "datetime                                                                 \n",
       "2011-01-01 00:00:00        0.0       3          13         1         0   \n",
       "2011-01-01 01:00:00        0.0       8          32         1         0   \n",
       "2011-01-01 02:00:00        0.0       5          27         1         0   \n",
       "2011-01-01 03:00:00        0.0       3          10         1         0   \n",
       "2011-01-01 04:00:00        0.0       0           1         1         0   \n",
       "\n",
       "                     season_3  season_4  \n",
       "datetime                                 \n",
       "2011-01-01 00:00:00         0         0  \n",
       "2011-01-01 01:00:00         0         0  \n",
       "2011-01-01 02:00:00         0         0  \n",
       "2011-01-01 03:00:00         0         0  \n",
       "2011-01-01 04:00:00         0         0  "
      ]
     },
     "execution_count": 10,
     "metadata": {},
     "output_type": "execute_result"
    }
   ],
   "source": [
    "features.head()"
   ]
  },
  {
   "cell_type": "code",
   "execution_count": 11,
   "metadata": {},
   "outputs": [],
   "source": [
    "from sklearn.model_selection import train_test_split"
   ]
  },
  {
   "cell_type": "code",
   "execution_count": 28,
   "metadata": {},
   "outputs": [],
   "source": [
    "train_x,test_x,y_train,y_test=train_test_split(features,target,test_size=0.2)"
   ]
  },
  {
   "cell_type": "code",
   "execution_count": 25,
   "metadata": {},
   "outputs": [
    {
     "data": {
      "text/plain": [
       "(torch.Size([8708, 13]), (8708,), torch.Size([2178, 13]), (2178,))"
      ]
     },
     "execution_count": 25,
     "metadata": {},
     "output_type": "execute_result"
    }
   ],
   "source": [
    "train_x.shape,y_train.shape,test_x.shape,y_test.shape"
   ]
  },
  {
   "cell_type": "code",
   "execution_count": 29,
   "metadata": {},
   "outputs": [],
   "source": [
    "train_x=torch.tensor(train_x.values,dtype=torch.float)\n",
    "test_x=torch.tensor(test_x.values,dtype=torch.float)\n",
    "train_y=torch.tensor(y_train.values,dtype=torch.float)\n",
    "test_y=torch.tensor(y_test.values,dtype=torch.float)\n"
   ]
  },
  {
   "cell_type": "code",
   "execution_count": 30,
   "metadata": {},
   "outputs": [],
   "source": [
    "from torch.utils.data import TensorDataset\n",
    "from torch.utils.data import DataLoader"
   ]
  },
  {
   "cell_type": "code",
   "execution_count": 31,
   "metadata": {},
   "outputs": [
    {
     "data": {
      "text/plain": [
       "(torch.Size([8708, 13]), torch.Size([8708]))"
      ]
     },
     "execution_count": 31,
     "metadata": {},
     "output_type": "execute_result"
    }
   ],
   "source": [
    "train_x.shape,train_y.shape"
   ]
  },
  {
   "cell_type": "code",
   "execution_count": 32,
   "metadata": {},
   "outputs": [],
   "source": [
    "train_d=TensorDataset(train_x,train_y)"
   ]
  },
  {
   "cell_type": "code",
   "execution_count": 33,
   "metadata": {},
   "outputs": [],
   "source": [
    "train_dl=DataLoader(train_d,batch_size=100,shuffle=True)"
   ]
  },
  {
   "cell_type": "code",
   "execution_count": 34,
   "metadata": {},
   "outputs": [],
   "source": [
    "feature_batch,target_batch=iter(train_dl).next()"
   ]
  },
  {
   "cell_type": "code",
   "execution_count": 36,
   "metadata": {},
   "outputs": [
    {
     "data": {
      "text/plain": [
       "(torch.Size([100, 13]), torch.Size([100]))"
      ]
     },
     "execution_count": 36,
     "metadata": {},
     "output_type": "execute_result"
    }
   ],
   "source": [
    "feature_batch.shape,target_batch.shape"
   ]
  },
  {
   "cell_type": "code",
   "execution_count": 38,
   "metadata": {},
   "outputs": [],
   "source": [
    "inp=train_x.shape[1]\n",
    "hidden=10\n",
    "out=1"
   ]
  },
  {
   "cell_type": "code",
   "execution_count": 39,
   "metadata": {},
   "outputs": [],
   "source": [
    "loss=torch.nn.MSELoss()"
   ]
  },
  {
   "cell_type": "code",
   "execution_count": 86,
   "metadata": {},
   "outputs": [],
   "source": [
    "model=torch.nn.Sequential(torch.nn.Linear(inp,hidden),\n",
    "                          torch.nn.Sigmoid(),\n",
    "                          torch.nn.Linear(hidden,out))"
   ]
  },
  {
   "cell_type": "code",
   "execution_count": 41,
   "metadata": {},
   "outputs": [],
   "source": [
    "optimizer=torch.optim.Adam(model.parameters(),lr=0.001)"
   ]
  },
  {
   "cell_type": "code",
   "execution_count": 43,
   "metadata": {},
   "outputs": [
    {
     "data": {
      "text/plain": [
       "88"
      ]
     },
     "execution_count": 43,
     "metadata": {},
     "output_type": "execute_result"
    }
   ],
   "source": [
    "total_step=len(train_dl)\n",
    "total_step"
   ]
  },
  {
   "cell_type": "code",
   "execution_count": 67,
   "metadata": {},
   "outputs": [],
   "source": [
    "num_epoch=1000"
   ]
  },
  {
   "cell_type": "code",
   "execution_count": 87,
   "metadata": {},
   "outputs": [
    {
     "name": "stderr",
     "output_type": "stream",
     "text": [
      "D:\\Anaconda Python\\Anaconda Setup\\lib\\site-packages\\torch\\nn\\modules\\loss.py:446: UserWarning: Using a target size (torch.Size([100])) that is different to the input size (torch.Size([100, 1])). This will likely lead to incorrect results due to broadcasting. Please ensure they have the same size.\n",
      "  return F.mse_loss(input, target, reduction=self.reduction)\n"
     ]
    },
    {
     "name": "stdout",
     "output_type": "stream",
     "text": [
      "epoch: 0 ,steps: 88  loss: 80728.9140625\n",
      "epoch: 1 ,steps: 88  loss: 70755.859375\n",
      "epoch: 2 ,steps: 88  loss: 67501.015625\n",
      "epoch: 3 ,steps: 88  loss: 77886.3515625\n",
      "epoch: 4 ,steps: 88  loss: 72861.578125\n",
      "epoch: 5 ,steps: 88  loss: 63347.6171875\n",
      "epoch: 6 ,steps: 88  loss: 83659.546875\n",
      "epoch: 7 ,steps: 88  loss: 64077.32421875\n",
      "epoch: 8 ,steps: 88  loss: 74139.5546875\n",
      "epoch: 9 ,steps: 88  loss: 61087.0\n",
      "epoch: 10 ,steps: 88  loss: 54103.1953125\n",
      "epoch: 11 ,steps: 88  loss: 70764.2109375\n",
      "epoch: 12 ,steps: 88  loss: 65647.4296875\n",
      "epoch: 13 ,steps: 88  loss: 72239.4140625\n",
      "epoch: 14 ,steps: 88  loss: 51552.6015625\n",
      "epoch: 15 ,steps: 88  loss: 70410.5703125\n",
      "epoch: 16 ,steps: 88  loss: 80114.6015625\n",
      "epoch: 17 ,steps: 88  loss: 66394.828125\n",
      "epoch: 18 ,steps: 88  loss: 69521.5859375\n",
      "epoch: 19 ,steps: 88  loss: 75647.8828125\n",
      "epoch: 20 ,steps: 88  loss: 66465.2578125\n",
      "epoch: 21 ,steps: 88  loss: 60246.765625\n",
      "epoch: 22 ,steps: 88  loss: 92299.0703125\n",
      "epoch: 23 ,steps: 88  loss: 72383.4765625\n",
      "epoch: 24 ,steps: 88  loss: 76324.9921875\n",
      "epoch: 25 ,steps: 88  loss: 67287.0390625\n",
      "epoch: 26 ,steps: 88  loss: 69556.03125\n",
      "epoch: 27 ,steps: 88  loss: 77706.6953125\n",
      "epoch: 28 ,steps: 88  loss: 68220.3046875\n",
      "epoch: 29 ,steps: 88  loss: 73292.671875\n",
      "epoch: 30 ,steps: 88  loss: 79635.546875\n",
      "epoch: 31 ,steps: 88  loss: 70855.609375\n",
      "epoch: 32 ,steps: 88  loss: 58632.9609375\n",
      "epoch: 33 ,steps: 88  loss: 55100.3828125\n",
      "epoch: 34 ,steps: 88  loss: 53176.1640625\n",
      "epoch: 35 ,steps: 88  loss: 95561.0078125\n",
      "epoch: 36 ,steps: 88  loss: 47597.96484375\n",
      "epoch: 37 ,steps: 88  loss: 68629.28125\n",
      "epoch: 38 ,steps: 88  loss: 58066.25390625\n",
      "epoch: 39 ,steps: 88  loss: 55674.78515625\n",
      "epoch: 40 ,steps: 88  loss: 66001.46875\n",
      "epoch: 41 ,steps: 88  loss: 76840.4296875\n",
      "epoch: 42 ,steps: 88  loss: 82416.5625\n",
      "epoch: 43 ,steps: 88  loss: 70570.8515625\n",
      "epoch: 44 ,steps: 88  loss: 71245.4765625\n",
      "epoch: 45 ,steps: 88  loss: 69531.3359375\n",
      "epoch: 46 ,steps: 88  loss: 58367.6171875\n",
      "epoch: 47 ,steps: 88  loss: 47539.5390625\n",
      "epoch: 48 ,steps: 88  loss: 68833.546875\n",
      "epoch: 49 ,steps: 88  loss: 68344.859375\n",
      "epoch: 50 ,steps: 88  loss: 80703.625\n",
      "epoch: 51 ,steps: 88  loss: 57373.8828125\n",
      "epoch: 52 ,steps: 88  loss: 76452.0859375\n",
      "epoch: 53 ,steps: 88  loss: 69187.5625\n",
      "epoch: 54 ,steps: 88  loss: 71678.5625\n",
      "epoch: 55 ,steps: 88  loss: 69256.6875\n",
      "epoch: 56 ,steps: 88  loss: 58792.6640625\n",
      "epoch: 57 ,steps: 88  loss: 65147.80078125\n",
      "epoch: 58 ,steps: 88  loss: 67486.8046875\n",
      "epoch: 59 ,steps: 88  loss: 83989.9375\n",
      "epoch: 60 ,steps: 88  loss: 70102.8046875\n",
      "epoch: 61 ,steps: 88  loss: 82543.984375\n",
      "epoch: 62 ,steps: 88  loss: 84786.3984375\n",
      "epoch: 63 ,steps: 88  loss: 83470.59375\n",
      "epoch: 64 ,steps: 88  loss: 61508.53125\n",
      "epoch: 65 ,steps: 88  loss: 62242.03515625\n",
      "epoch: 66 ,steps: 88  loss: 45630.33203125\n",
      "epoch: 67 ,steps: 88  loss: 67906.4609375\n",
      "epoch: 68 ,steps: 88  loss: 83003.4609375\n",
      "epoch: 69 ,steps: 88  loss: 62830.59375\n",
      "epoch: 70 ,steps: 88  loss: 65511.08984375\n",
      "epoch: 71 ,steps: 88  loss: 41114.76171875\n",
      "epoch: 72 ,steps: 88  loss: 68064.96875\n",
      "epoch: 73 ,steps: 88  loss: 57051.94140625\n",
      "epoch: 74 ,steps: 88  loss: 72317.28125\n",
      "epoch: 75 ,steps: 88  loss: 71483.6171875\n",
      "epoch: 76 ,steps: 88  loss: 59912.609375\n",
      "epoch: 77 ,steps: 88  loss: 71308.015625\n",
      "epoch: 78 ,steps: 88  loss: 70444.484375\n",
      "epoch: 79 ,steps: 88  loss: 77743.6875\n",
      "epoch: 80 ,steps: 88  loss: 71807.703125\n",
      "epoch: 81 ,steps: 88  loss: 57972.4296875\n",
      "epoch: 82 ,steps: 88  loss: 69679.828125\n",
      "epoch: 83 ,steps: 88  loss: 71135.7734375\n",
      "epoch: 84 ,steps: 88  loss: 56228.01171875\n",
      "epoch: 85 ,steps: 88  loss: 72400.15625\n",
      "epoch: 86 ,steps: 88  loss: 69811.15625\n",
      "epoch: 87 ,steps: 88  loss: 106489.609375\n"
     ]
    },
    {
     "name": "stderr",
     "output_type": "stream",
     "text": [
      "D:\\Anaconda Python\\Anaconda Setup\\lib\\site-packages\\torch\\nn\\modules\\loss.py:446: UserWarning: Using a target size (torch.Size([8])) that is different to the input size (torch.Size([8, 1])). This will likely lead to incorrect results due to broadcasting. Please ensure they have the same size.\n",
      "  return F.mse_loss(input, target, reduction=self.reduction)\n"
     ]
    },
    {
     "name": "stdout",
     "output_type": "stream",
     "text": [
      "epoch: 0 ,steps: 88  loss: 74540.6484375\n",
      "epoch: 1 ,steps: 88  loss: 68012.4375\n",
      "epoch: 2 ,steps: 88  loss: 74540.21875\n",
      "epoch: 3 ,steps: 88  loss: 84055.6484375\n",
      "epoch: 4 ,steps: 88  loss: 52886.109375\n",
      "epoch: 5 ,steps: 88  loss: 53012.51953125\n",
      "epoch: 6 ,steps: 88  loss: 61716.30078125\n",
      "epoch: 7 ,steps: 88  loss: 76107.1640625\n",
      "epoch: 8 ,steps: 88  loss: 42842.21875\n",
      "epoch: 9 ,steps: 88  loss: 74143.296875\n",
      "epoch: 10 ,steps: 88  loss: 82922.0703125\n",
      "epoch: 11 ,steps: 88  loss: 59923.33984375\n",
      "epoch: 12 ,steps: 88  loss: 60823.4375\n",
      "epoch: 13 ,steps: 88  loss: 76102.6875\n",
      "epoch: 14 ,steps: 88  loss: 81529.4375\n",
      "epoch: 15 ,steps: 88  loss: 71166.890625\n",
      "epoch: 16 ,steps: 88  loss: 61780.72265625\n",
      "epoch: 17 ,steps: 88  loss: 56436.6640625\n",
      "epoch: 18 ,steps: 88  loss: 57324.3203125\n",
      "epoch: 19 ,steps: 88  loss: 69004.671875\n",
      "epoch: 20 ,steps: 88  loss: 59603.9609375\n",
      "epoch: 21 ,steps: 88  loss: 62873.984375\n",
      "epoch: 22 ,steps: 88  loss: 80359.8984375\n",
      "epoch: 23 ,steps: 88  loss: 65410.0078125\n",
      "epoch: 24 ,steps: 88  loss: 77784.0859375\n",
      "epoch: 25 ,steps: 88  loss: 80057.046875\n",
      "epoch: 26 ,steps: 88  loss: 96125.15625\n",
      "epoch: 27 ,steps: 88  loss: 47377.70703125\n",
      "epoch: 28 ,steps: 88  loss: 82933.59375\n",
      "epoch: 29 ,steps: 88  loss: 73544.671875\n",
      "epoch: 30 ,steps: 88  loss: 57304.3203125\n",
      "epoch: 31 ,steps: 88  loss: 60887.640625\n",
      "epoch: 32 ,steps: 88  loss: 85907.484375\n",
      "epoch: 33 ,steps: 88  loss: 76186.6875\n",
      "epoch: 34 ,steps: 88  loss: 84077.8125\n",
      "epoch: 35 ,steps: 88  loss: 60550.9296875\n",
      "epoch: 36 ,steps: 88  loss: 50620.4375\n",
      "epoch: 37 ,steps: 88  loss: 75846.3203125\n",
      "epoch: 38 ,steps: 88  loss: 75571.015625\n",
      "epoch: 39 ,steps: 88  loss: 54531.4375\n",
      "epoch: 40 ,steps: 88  loss: 68858.078125\n",
      "epoch: 41 ,steps: 88  loss: 55679.76953125\n",
      "epoch: 42 ,steps: 88  loss: 62081.21484375\n",
      "epoch: 43 ,steps: 88  loss: 67374.6796875\n",
      "epoch: 44 ,steps: 88  loss: 88145.953125\n",
      "epoch: 45 ,steps: 88  loss: 60223.17578125\n",
      "epoch: 46 ,steps: 88  loss: 75393.453125\n",
      "epoch: 47 ,steps: 88  loss: 74805.0078125\n",
      "epoch: 48 ,steps: 88  loss: 55927.02734375\n",
      "epoch: 49 ,steps: 88  loss: 53695.30859375\n",
      "epoch: 50 ,steps: 88  loss: 69715.8125\n",
      "epoch: 51 ,steps: 88  loss: 70057.7890625\n",
      "epoch: 52 ,steps: 88  loss: 59553.1328125\n",
      "epoch: 53 ,steps: 88  loss: 48442.0234375\n",
      "epoch: 54 ,steps: 88  loss: 73384.1953125\n",
      "epoch: 55 ,steps: 88  loss: 66544.796875\n",
      "epoch: 56 ,steps: 88  loss: 72060.0234375\n",
      "epoch: 57 ,steps: 88  loss: 64957.67578125\n",
      "epoch: 58 ,steps: 88  loss: 73809.953125\n",
      "epoch: 59 ,steps: 88  loss: 73010.2578125\n",
      "epoch: 60 ,steps: 88  loss: 69185.859375\n",
      "epoch: 61 ,steps: 88  loss: 61126.734375\n",
      "epoch: 62 ,steps: 88  loss: 72559.078125\n",
      "epoch: 63 ,steps: 88  loss: 54545.56640625\n",
      "epoch: 64 ,steps: 88  loss: 64549.28515625\n",
      "epoch: 65 ,steps: 88  loss: 76604.90625\n",
      "epoch: 66 ,steps: 88  loss: 79278.859375\n",
      "epoch: 67 ,steps: 88  loss: 79013.296875\n",
      "epoch: 68 ,steps: 88  loss: 53027.0703125\n",
      "epoch: 69 ,steps: 88  loss: 82021.6328125\n",
      "epoch: 70 ,steps: 88  loss: 70924.453125\n",
      "epoch: 71 ,steps: 88  loss: 87257.859375\n",
      "epoch: 72 ,steps: 88  loss: 64280.47265625\n",
      "epoch: 73 ,steps: 88  loss: 50665.04296875\n",
      "epoch: 74 ,steps: 88  loss: 71965.765625\n",
      "epoch: 75 ,steps: 88  loss: 60947.24609375\n",
      "epoch: 76 ,steps: 88  loss: 71803.3359375\n",
      "epoch: 77 ,steps: 88  loss: 81027.875\n",
      "epoch: 78 ,steps: 88  loss: 78589.015625\n",
      "epoch: 79 ,steps: 88  loss: 67298.2890625\n",
      "epoch: 80 ,steps: 88  loss: 82302.03125\n",
      "epoch: 81 ,steps: 88  loss: 61199.77734375\n",
      "epoch: 82 ,steps: 88  loss: 69337.9453125\n",
      "epoch: 83 ,steps: 88  loss: 51076.48828125\n",
      "epoch: 84 ,steps: 88  loss: 72435.59375\n",
      "epoch: 85 ,steps: 88  loss: 66438.7734375\n",
      "epoch: 86 ,steps: 88  loss: 87700.1796875\n",
      "epoch: 87 ,steps: 88  loss: 101811.28125\n"
     ]
    }
   ],
   "source": [
    "for epoch in range(num_epoch):\n",
    "    for i,(features,target) in enumerate(train_dl):\n",
    "        pred=model(features)\n",
    "        loss_model=loss(pred,target)\n",
    "        optimizer.zero_grad()\n",
    "        loss_model.backward()\n",
    "        optimizer.step()\n",
    "        if epoch%500==0:\n",
    "            print('epoch:',i, \",steps:\",total_step,\" loss:\",loss_model.item())\n"
   ]
  },
  {
   "cell_type": "code",
   "execution_count": 76,
   "metadata": {},
   "outputs": [
    {
     "data": {
      "text/plain": [
       "Sequential(\n",
       "  (0): Linear(in_features=13, out_features=10, bias=True)\n",
       "  (1): ReLU()\n",
       "  (2): Linear(in_features=10, out_features=1, bias=True)\n",
       ")"
      ]
     },
     "execution_count": 76,
     "metadata": {},
     "output_type": "execute_result"
    }
   ],
   "source": [
    "model.eval()"
   ]
  },
  {
   "cell_type": "code",
   "execution_count": 88,
   "metadata": {},
   "outputs": [
    {
     "data": {
      "text/html": [
       "<div>\n",
       "<style scoped>\n",
       "    .dataframe tbody tr th:only-of-type {\n",
       "        vertical-align: middle;\n",
       "    }\n",
       "\n",
       "    .dataframe tbody tr th {\n",
       "        vertical-align: top;\n",
       "    }\n",
       "\n",
       "    .dataframe thead th {\n",
       "        text-align: right;\n",
       "    }\n",
       "</style>\n",
       "<table border=\"1\" class=\"dataframe\">\n",
       "  <thead>\n",
       "    <tr style=\"text-align: right;\">\n",
       "      <th></th>\n",
       "      <th>actual</th>\n",
       "      <th>predicted</th>\n",
       "    </tr>\n",
       "  </thead>\n",
       "  <tbody>\n",
       "    <tr>\n",
       "      <th>0</th>\n",
       "      <td>57.0</td>\n",
       "      <td>-0.067217</td>\n",
       "    </tr>\n",
       "    <tr>\n",
       "      <th>1</th>\n",
       "      <td>82.0</td>\n",
       "      <td>-0.095495</td>\n",
       "    </tr>\n",
       "    <tr>\n",
       "      <th>2</th>\n",
       "      <td>641.0</td>\n",
       "      <td>0.147844</td>\n",
       "    </tr>\n",
       "    <tr>\n",
       "      <th>3</th>\n",
       "      <td>138.0</td>\n",
       "      <td>-0.100305</td>\n",
       "    </tr>\n",
       "    <tr>\n",
       "      <th>4</th>\n",
       "      <td>11.0</td>\n",
       "      <td>-0.063496</td>\n",
       "    </tr>\n",
       "    <tr>\n",
       "      <th>...</th>\n",
       "      <td>...</td>\n",
       "      <td>...</td>\n",
       "    </tr>\n",
       "    <tr>\n",
       "      <th>95</th>\n",
       "      <td>6.0</td>\n",
       "      <td>-0.067542</td>\n",
       "    </tr>\n",
       "    <tr>\n",
       "      <th>96</th>\n",
       "      <td>258.0</td>\n",
       "      <td>-0.028854</td>\n",
       "    </tr>\n",
       "    <tr>\n",
       "      <th>97</th>\n",
       "      <td>441.0</td>\n",
       "      <td>0.082886</td>\n",
       "    </tr>\n",
       "    <tr>\n",
       "      <th>98</th>\n",
       "      <td>134.0</td>\n",
       "      <td>0.076157</td>\n",
       "    </tr>\n",
       "    <tr>\n",
       "      <th>99</th>\n",
       "      <td>4.0</td>\n",
       "      <td>-0.049849</td>\n",
       "    </tr>\n",
       "  </tbody>\n",
       "</table>\n",
       "<p>100 rows × 2 columns</p>\n",
       "</div>"
      ],
      "text/plain": [
       "    actual  predicted\n",
       "0     57.0  -0.067217\n",
       "1     82.0  -0.095495\n",
       "2    641.0   0.147844\n",
       "3    138.0  -0.100305\n",
       "4     11.0  -0.063496\n",
       "..     ...        ...\n",
       "95     6.0  -0.067542\n",
       "96   258.0  -0.028854\n",
       "97   441.0   0.082886\n",
       "98   134.0   0.076157\n",
       "99     4.0  -0.049849\n",
       "\n",
       "[100 rows x 2 columns]"
      ]
     },
     "execution_count": 88,
     "metadata": {},
     "output_type": "execute_result"
    }
   ],
   "source": [
    "with torch.no_grad():\n",
    "    y_pred=model(test_x)\n",
    "y_prd=y_pred.detach().numpy()\n",
    "compare_df=pd.DataFrame(({'actual':np.squeeze(test_y),'predicted':np.squeeze(y_pred)}\n",
    "                        ))\n",
    "compare_df.head(100)"
   ]
  },
  {
   "cell_type": "code",
   "execution_count": 78,
   "metadata": {},
   "outputs": [],
   "source": [
    "from sklearn.metrics import r2_score"
   ]
  },
  {
   "cell_type": "code",
   "execution_count": 89,
   "metadata": {},
   "outputs": [
    {
     "data": {
      "text/plain": [
       "-1.11875588586611"
      ]
     },
     "execution_count": 89,
     "metadata": {},
     "output_type": "execute_result"
    }
   ],
   "source": [
    "r2_score(test_y,y_pred)"
   ]
  },
  {
   "cell_type": "code",
   "execution_count": 92,
   "metadata": {},
   "outputs": [
    {
     "data": {
      "text/plain": [
       "<matplotlib.collections.PathCollection at 0x276114a0a0>"
      ]
     },
     "execution_count": 92,
     "metadata": {},
     "output_type": "execute_result"
    },
    {
     "data": {
      "image/png": "[encoded data removed]",
      "text/plain": [
       "<Figure size 432x288 with 1 Axes>"
      ]
     },
     "metadata": {
      "needs_background": "light"
     },
     "output_type": "display_data"
    }
   ],
   "source": [
    "plt.scatter(y_pred,test_y,s=2)"
   ]
  },
  {
   "cell_type": "code",
   "execution_count": null,
   "metadata": {},
   "outputs": [],
   "source": []
  }
 ],
 "metadata": {
  "kernelspec": {
   "display_name": "Python 3",
   "language": "python",
   "name": "python3"
  }
 },
 "nbformat": 4,
 "nbformat_minor": 4
}
